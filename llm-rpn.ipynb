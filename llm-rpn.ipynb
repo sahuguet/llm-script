[]
['"""Tell me a kid appropriate very funny joke."""']
['"""Tell me a kid appropriate very funny joke."""', '"""Tell me a kid appropriate very funny joke."""']
['"""Tell me a kid appropriate very funny joke."""', '"""Tell me a kid appropriate very funny joke."""', {'model': 'gpt-3.5', 'temperature': 0.5}]
% Calling model {'model': 'gpt-3.5', 'temperature': 0.5} with prompt: """Tell me a kid appropriate very funny joke."""
['"""Tell me a kid appropriate very funny joke."""', 'Why did the math book look sad?\n\nBecause it had too many problems!']
['"""Tell me a kid appropriate very funny joke."""', 'Why did the math book look sad?\n\nBecause it had too many problems!', '"""Tell me a kid appropriate very funny joke."""']
['"""Tell me a kid appropriate very funny joke."""', 'Why did the math book look sad?\n\nBecause it had too many problems!', '"""Tell me a kid appropriate very funny joke."""', {'model': 'gpt-4', 'temperature': 0.6}]
% Calling model {'model': 'gpt-4', 'temperature': 0.6} with prompt: """Tell me a kid appropriate very funny joke."""
['"""Tell me a kid appropriate very funny joke."""', 'Why did the math book look sad?\n\nBecause it had too many problems!', "Why couldn't the bicycle stand up by itself?\n\nBecause it was two tired!"]
['"""Tell me a kid appropriate very funny joke."""', ["Why couldn't the bicycle stand up by itself?\n\nBecause it was two tired!", 'Why did the math book look sad?\n\nBecause it had too many problems!']]
[["Why couldn't the bicycle stand up by itself?\n\nBecause it was two tired!", 'Why did the math book look sad?\n\nBecause it had too many problems!'], '"""Tell me a kid appropriate very funny joke."""']
[["Why couldn't the bicycle stand up by itself?\n\nBecause it was two tired!", 'Why did the math book look sad?\n\nBecause it had too many problems!'], '"""Tell me a kid appropriate very funny joke."""', {'model': 'gpt-4o', 'temperature': 0.7}]
% Calling model {'model': 'gpt-4o', 'temperature': 0.7} with prompt: """Tell me a kid appropriate very funny joke."""
[["Why couldn't the bicycle stand up by itself?\n\nBecause it was two tired!", 'Why did the math book look sad?\n\nBecause it had too many problems!'], 'Why was the math book sad?\n\nBecause it had too many problems.']
[['Why was the math book sad?\n\nBecause it had too many problems.', "Why couldn't the bicycle stand up by itself?\n\nBecause it was two tired!", 'Why did the math book look sad?\n\nBecause it had too many problems!']]
[{'array': ['Why was the math book sad?\n\nBecause it had too many problems.', "Why couldn't the bicycle stand up by itself?\n\nBecause it was two tired!", 'Why did the math book look sad?\n\nBecause it had too many problems!']}]
[{'array': ['Why was the math book sad?\n\nBecause it had too many problems.', "Why couldn't the bicycle stand up by itself?\n\nBecause it was two tired!", 'Why did the math book look sad?\n\nBecause it had too many problems!']}, '"""Pick the best joke among the jokes.\n\n<jokes>\n\n{%- for joke in array %}\n\n<joke>\n\n{{ joke -}}\n\n </joke>\n\n{% endfor %}\n\n</jokes>\n\nand explain why\n\n"""']
['"""Pick the best joke among the jokes.\n\n<jokes>\n\n<joke>\n\nWhy was the math book sad?\n\nBecause it had too many problems.</joke>\n\n\n\n<joke>\n\nWhy couldn\'t the bicycle stand up by itself?\n\nBecause it was two tired!</joke>\n\n\n\n<joke>\n\nWhy did the math book look sad?\n\nBecause it had too many problems!</joke>\n\n\n\n</jokes>\n\nand explain why\n\n"""']
['"""Pick the best joke among the jokes.\n\n<jokes>\n\n<joke>\n\nWhy was the math book sad?\n\nBecause it had too many problems.</joke>\n\n\n\n<joke>\n\nWhy couldn\'t the bicycle stand up by itself?\n\nBecause it was two tired!</joke>\n\n\n\n<joke>\n\nWhy did the math book look sad?\n\nBecause it had too many problems!</joke>\n\n\n\n</jokes>\n\nand explain why\n\n"""', {'model': 'gpt-4o', 'temperature': 0}]
% Calling model {'model': 'gpt-4o', 'temperature': 0} with prompt: """Pick the best joke among the jokes.

<jokes>

<joke>

Why was the math book sad?

Because it had too many problems.</joke>



<joke>

Why couldn't the bicycle stand up by itself?

Because it was two tired!</joke>



<joke>

Why did the math book look sad?

Because it had too many problems!</joke>



</jokes>

and explain why

"""

['The best joke among the jokes is:\n\n"Why couldn\'t the bicycle stand up by itself? Because it was two tired!"\n\nThis joke is clever because it plays on the double meaning of the word "tired" - one meaning being physically exhausted, and the other being the two tires of a bicycle. The pun is unexpected']
