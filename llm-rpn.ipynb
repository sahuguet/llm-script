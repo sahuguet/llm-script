{
 "cells": [
  {
   "cell_type": "code",
   "execution_count": 49,
   "metadata": {},
   "outputs": [
    {
     "name": "stdout",
     "output_type": "stream",
     "text": [
      "[]\n",
      "[{'friend': 'Arnaud'}]\n",
      "[{'friend': 'Arnaud'}, '\"\"\"how are you doing {{friend}}\"\"\"']\n",
      "['\"\"\"how are you doing Arnaud\"\"\"']\n",
      "['\"\"\"how are you doing Arnaud\"\"\"', {'model': 'gpt-3.5', 'temperature': 0}]\n",
      "% Calling model {'model': 'gpt-3.5', 'temperature': 0} with prompt: \"\"\"how are you doing Arnaud\"\"\"\n",
      "[]\n"
     ]
    }
   ],
   "source": [
    "import types\n",
    "import json\n",
    "from jinja2 import Template\n",
    "\n",
    "class StackLang:\n",
    "    def __init__(self):\n",
    "        self.stack = []\n",
    "\n",
    "    def push(self, value):\n",
    "        self.stack.append(value)\n",
    "\n",
    "    def pop(self):\n",
    "        if self.stack:\n",
    "            return self.stack.pop()\n",
    "        raise IndexError(\"Pop from an empty stack\")\n",
    "\n",
    "    def MAKE_PROMPT(self):\n",
    "        if len(self.stack) >= 2:\n",
    "            prompt_template = self.pop()\n",
    "            params = self.pop()\n",
    "            template = Template(prompt_template)\n",
    "            self.push(template.render(params))\n",
    "\n",
    "        else:\n",
    "            raise IndexError(\"CALL-ing a model requires 2 params: prompt and model params.\")\n",
    "\n",
    "    def CALL(self):\n",
    "        if len(self.stack) >= 2:\n",
    "            model = self.pop()\n",
    "            prompt = self.pop()\n",
    "            print('%% Calling model %s with prompt: %s' %(model, prompt))\n",
    "        else:\n",
    "            raise IndexError(\"CALL-ing a model requires 2 params: prompt and model params.\")\n",
    "\n",
    "    def execute(self, commands):\n",
    "        #print(self)\n",
    "\n",
    "        for cmd in commands:\n",
    "            print(self)\n",
    "            if cmd.startswith('\"\"\"'):\n",
    "                self.push(cmd)\n",
    "            elif cmd.startswith('{'):\n",
    "                self.push(json.loads(cmd))\n",
    "            else:\n",
    "                if hasattr(self, cmd):\n",
    "                    getattr(self, cmd)()\n",
    "                else:\n",
    "                    raise ValueError(f\"Unknown command: {cmd}\")\n",
    "\n",
    "    def __str__(self):\n",
    "            return str(self.stack)\n",
    "\n",
    "\n",
    "\n",
    "lang = StackLang()\n",
    "commands = ['{\"friend\": \"Arnaud\"}', \n",
    "            '\"\"\"how are you doing {{friend}}\"\"\"',\n",
    "            \"MAKE_PROMPT\",\n",
    "            '{\"model\": \"gpt-3.5\", \"temperature\": 0}',\n",
    "            'CALL' ]\n",
    "lang.execute(commands)\n",
    "print(lang)  # Output should be [14]"
   ]
  },
  {
   "cell_type": "code",
   "execution_count": 44,
   "metadata": {},
   "outputs": [],
   "source": [
    "def process_file(filename):\n",
    "    lines = open(filename).readlines()\n",
    "    clean_lines = []\n",
    "    i = 0\n",
    "    while i < len(lines):\n",
    "        if lines[i].startswith('\"\"\"') is False:\n",
    "            clean_lines.append(lines[i].strip())\n",
    "            i = i + 1\n",
    "        else:\n",
    "            j = i\n",
    "            while (j < len(lines) and lines[j].endswith('\"\"\"\\n') is False):\n",
    "                j = j + 1\n",
    "            # clean_lines.append(\"\\n\".join(  [k[:-1] for k in lines[i:j+1] ] ) )\n",
    "            clean_lines.append(\"\\n\".join(lines[i:j+1]).strip())\n",
    "            i = j + 1\n",
    "    return [k for k in clean_lines if k != '']"
   ]
  },
  {
   "cell_type": "code",
   "execution_count": 50,
   "metadata": {},
   "outputs": [
    {
     "name": "stdout",
     "output_type": "stream",
     "text": [
      "[]\n",
      "[{'friend': 'Arnaud'}]\n",
      "[{'friend': 'Arnaud'}, '\"\"\"how\\n\\n    are\\n\\n\\n\\n    you doing {{friend}}\"\"\"']\n",
      "['\"\"\"how\\n\\n    are\\n\\n\\n\\n    you doing Arnaud\"\"\"']\n",
      "['\"\"\"how\\n\\n    are\\n\\n\\n\\n    you doing Arnaud\"\"\"', {'model': 'gpt-3.5', 'temperature': 0}]\n",
      "% Calling model {'model': 'gpt-3.5', 'temperature': 0} with prompt: \"\"\"how\n",
      "\n",
      "    are\n",
      "\n",
      "\n",
      "\n",
      "    you doing Arnaud\"\"\"\n",
      "[]\n"
     ]
    }
   ],
   "source": [
    "lang = StackLang()\n",
    "\n",
    "commands = process_file('llm1.txt')\n",
    "\n",
    "lang.execute(commands)\n",
    "print(lang)\n"
   ]
  }
 ],
 "metadata": {
  "kernelspec": {
   "display_name": "default_py",
   "language": "python",
   "name": "python3"
  },
  "language_info": {
   "codemirror_mode": {
    "name": "ipython",
    "version": 3
   },
   "file_extension": ".py",
   "mimetype": "text/x-python",
   "name": "python",
   "nbconvert_exporter": "python",
   "pygments_lexer": "ipython3",
   "version": "3.12.3"
  }
 },
 "nbformat": 4,
 "nbformat_minor": 2
}
